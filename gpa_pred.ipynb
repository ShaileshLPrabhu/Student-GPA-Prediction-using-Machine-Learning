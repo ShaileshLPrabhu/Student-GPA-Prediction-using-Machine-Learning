{
 "cells": [
  {
   "cell_type": "code",
   "execution_count": 1,
   "id": "2417e9f1",
   "metadata": {
    "execution": {
     "iopub.execute_input": "2024-08-15T03:51:04.379188Z",
     "iopub.status.busy": "2024-08-15T03:51:04.378756Z",
     "iopub.status.idle": "2024-08-15T03:51:07.191572Z",
     "shell.execute_reply": "2024-08-15T03:51:07.190379Z"
    },
    "papermill": {
     "duration": 2.823186,
     "end_time": "2024-08-15T03:51:07.194792",
     "exception": false,
     "start_time": "2024-08-15T03:51:04.371606",
     "status": "completed"
    },
    "tags": []
   },
   "outputs": [],
   "source": [
    "# This Python 3 environment comes with many helpful analytics libraries installed\n",
    "# It is defined by the kaggle/python Docker image: https://github.com/kaggle/docker-python\n",
    "# For example, here's several helpful packages to load\n",
    "\n",
    "import numpy as np # linear algebra\n",
    "import pandas as pd # data processing, CSV file I/O (e.g. pd.read_csv)\n",
    "from sklearn.model_selection import train_test_split\n",
    "from sklearn.linear_model import LinearRegression\n",
    "from sklearn import metrics\n",
    "from sklearn.preprocessing import StandardScaler,LabelEncoder\n"
   ]
  },
  {
   "cell_type": "code",
   "execution_count": 2,
   "id": "345d29f4",
   "metadata": {
    "execution": {
     "iopub.execute_input": "2024-08-15T03:51:07.206575Z",
     "iopub.status.busy": "2024-08-15T03:51:07.205996Z",
     "iopub.status.idle": "2024-08-15T03:51:07.238846Z",
     "shell.execute_reply": "2024-08-15T03:51:07.237481Z"
    },
    "papermill": {
     "duration": 0.041823,
     "end_time": "2024-08-15T03:51:07.241752",
     "exception": false,
     "start_time": "2024-08-15T03:51:07.199929",
     "status": "completed"
    },
    "tags": []
   },
   "outputs": [],
   "source": [
    "df = pd.read_csv('student_performance_data.csv')"
   ]
  },
  {
   "cell_type": "code",
   "execution_count": 3,
   "id": "8c640c82",
   "metadata": {
    "execution": {
     "iopub.execute_input": "2024-08-15T03:51:07.253285Z",
     "iopub.status.busy": "2024-08-15T03:51:07.252832Z",
     "iopub.status.idle": "2024-08-15T03:51:07.272379Z",
     "shell.execute_reply": "2024-08-15T03:51:07.271078Z"
    },
    "papermill": {
     "duration": 0.028624,
     "end_time": "2024-08-15T03:51:07.275070",
     "exception": false,
     "start_time": "2024-08-15T03:51:07.246446",
     "status": "completed"
    },
    "tags": []
   },
   "outputs": [
    {
     "data": {
      "text/plain": [
       "StudentID                    0\n",
       "Gender                       0\n",
       "Age                          0\n",
       "StudyHoursPerWeek            0\n",
       "AttendanceRate               0\n",
       "GPA                          0\n",
       "Major                        0\n",
       "PartTimeJob                  0\n",
       "ExtraCurricularActivities    0\n",
       "dtype: int64"
      ]
     },
     "execution_count": 3,
     "metadata": {},
     "output_type": "execute_result"
    }
   ],
   "source": [
    "df.isnull().sum()"
   ]
  },
  {
   "cell_type": "code",
   "execution_count": 4,
   "id": "0974d2d1",
   "metadata": {
    "execution": {
     "iopub.execute_input": "2024-08-15T03:51:07.286856Z",
     "iopub.status.busy": "2024-08-15T03:51:07.286403Z",
     "iopub.status.idle": "2024-08-15T03:51:07.301201Z",
     "shell.execute_reply": "2024-08-15T03:51:07.300035Z"
    },
    "papermill": {
     "duration": 0.023888,
     "end_time": "2024-08-15T03:51:07.303871",
     "exception": false,
     "start_time": "2024-08-15T03:51:07.279983",
     "status": "completed"
    },
    "tags": []
   },
   "outputs": [
    {
     "data": {
      "text/plain": [
       "0"
      ]
     },
     "execution_count": 4,
     "metadata": {},
     "output_type": "execute_result"
    }
   ],
   "source": [
    "df.duplicated().sum()"
   ]
  },
  {
   "cell_type": "code",
   "execution_count": 5,
   "id": "eaf36b26",
   "metadata": {
    "execution": {
     "iopub.execute_input": "2024-08-15T03:51:07.315897Z",
     "iopub.status.busy": "2024-08-15T03:51:07.315439Z",
     "iopub.status.idle": "2024-08-15T03:51:07.337380Z",
     "shell.execute_reply": "2024-08-15T03:51:07.336203Z"
    },
    "papermill": {
     "duration": 0.031817,
     "end_time": "2024-08-15T03:51:07.340810",
     "exception": false,
     "start_time": "2024-08-15T03:51:07.308993",
     "status": "completed"
    },
    "tags": []
   },
   "outputs": [
    {
     "data": {
      "text/html": [
       "<div>\n",
       "<style scoped>\n",
       "    .dataframe tbody tr th:only-of-type {\n",
       "        vertical-align: middle;\n",
       "    }\n",
       "\n",
       "    .dataframe tbody tr th {\n",
       "        vertical-align: top;\n",
       "    }\n",
       "\n",
       "    .dataframe thead th {\n",
       "        text-align: right;\n",
       "    }\n",
       "</style>\n",
       "<table border=\"1\" class=\"dataframe\">\n",
       "  <thead>\n",
       "    <tr style=\"text-align: right;\">\n",
       "      <th></th>\n",
       "      <th>StudentID</th>\n",
       "      <th>Gender</th>\n",
       "      <th>Age</th>\n",
       "      <th>StudyHoursPerWeek</th>\n",
       "      <th>AttendanceRate</th>\n",
       "      <th>GPA</th>\n",
       "      <th>Major</th>\n",
       "      <th>PartTimeJob</th>\n",
       "      <th>ExtraCurricularActivities</th>\n",
       "    </tr>\n",
       "  </thead>\n",
       "  <tbody>\n",
       "    <tr>\n",
       "      <th>0</th>\n",
       "      <td>1</td>\n",
       "      <td>Male</td>\n",
       "      <td>24</td>\n",
       "      <td>37</td>\n",
       "      <td>90.75</td>\n",
       "      <td>3.47</td>\n",
       "      <td>Arts</td>\n",
       "      <td>Yes</td>\n",
       "      <td>No</td>\n",
       "    </tr>\n",
       "    <tr>\n",
       "      <th>1</th>\n",
       "      <td>2</td>\n",
       "      <td>Female</td>\n",
       "      <td>22</td>\n",
       "      <td>37</td>\n",
       "      <td>74.90</td>\n",
       "      <td>2.32</td>\n",
       "      <td>Education</td>\n",
       "      <td>No</td>\n",
       "      <td>No</td>\n",
       "    </tr>\n",
       "    <tr>\n",
       "      <th>2</th>\n",
       "      <td>3</td>\n",
       "      <td>Male</td>\n",
       "      <td>22</td>\n",
       "      <td>10</td>\n",
       "      <td>53.36</td>\n",
       "      <td>2.38</td>\n",
       "      <td>Business</td>\n",
       "      <td>No</td>\n",
       "      <td>No</td>\n",
       "    </tr>\n",
       "    <tr>\n",
       "      <th>3</th>\n",
       "      <td>4</td>\n",
       "      <td>Male</td>\n",
       "      <td>24</td>\n",
       "      <td>10</td>\n",
       "      <td>70.26</td>\n",
       "      <td>3.46</td>\n",
       "      <td>Science</td>\n",
       "      <td>Yes</td>\n",
       "      <td>No</td>\n",
       "    </tr>\n",
       "    <tr>\n",
       "      <th>4</th>\n",
       "      <td>5</td>\n",
       "      <td>Male</td>\n",
       "      <td>18</td>\n",
       "      <td>19</td>\n",
       "      <td>74.87</td>\n",
       "      <td>2.31</td>\n",
       "      <td>Education</td>\n",
       "      <td>Yes</td>\n",
       "      <td>No</td>\n",
       "    </tr>\n",
       "  </tbody>\n",
       "</table>\n",
       "</div>"
      ],
      "text/plain": [
       "   StudentID  Gender  Age  StudyHoursPerWeek  AttendanceRate   GPA      Major  \\\n",
       "0          1    Male   24                 37           90.75  3.47       Arts   \n",
       "1          2  Female   22                 37           74.90  2.32  Education   \n",
       "2          3    Male   22                 10           53.36  2.38   Business   \n",
       "3          4    Male   24                 10           70.26  3.46    Science   \n",
       "4          5    Male   18                 19           74.87  2.31  Education   \n",
       "\n",
       "  PartTimeJob ExtraCurricularActivities  \n",
       "0         Yes                        No  \n",
       "1          No                        No  \n",
       "2          No                        No  \n",
       "3         Yes                        No  \n",
       "4         Yes                        No  "
      ]
     },
     "execution_count": 5,
     "metadata": {},
     "output_type": "execute_result"
    }
   ],
   "source": [
    "df.head()"
   ]
  },
  {
   "cell_type": "code",
   "execution_count": 6,
   "id": "c269eefb",
   "metadata": {
    "execution": {
     "iopub.execute_input": "2024-08-15T03:51:07.353336Z",
     "iopub.status.busy": "2024-08-15T03:51:07.352931Z",
     "iopub.status.idle": "2024-08-15T03:51:07.382779Z",
     "shell.execute_reply": "2024-08-15T03:51:07.381527Z"
    },
    "papermill": {
     "duration": 0.039138,
     "end_time": "2024-08-15T03:51:07.385290",
     "exception": false,
     "start_time": "2024-08-15T03:51:07.346152",
     "status": "completed"
    },
    "tags": []
   },
   "outputs": [
    {
     "data": {
      "text/html": [
       "<div>\n",
       "<style scoped>\n",
       "    .dataframe tbody tr th:only-of-type {\n",
       "        vertical-align: middle;\n",
       "    }\n",
       "\n",
       "    .dataframe tbody tr th {\n",
       "        vertical-align: top;\n",
       "    }\n",
       "\n",
       "    .dataframe thead th {\n",
       "        text-align: right;\n",
       "    }\n",
       "</style>\n",
       "<table border=\"1\" class=\"dataframe\">\n",
       "  <thead>\n",
       "    <tr style=\"text-align: right;\">\n",
       "      <th></th>\n",
       "      <th>StudentID</th>\n",
       "      <th>Gender</th>\n",
       "      <th>Age</th>\n",
       "      <th>StudyHoursPerWeek</th>\n",
       "      <th>AttendanceRate</th>\n",
       "      <th>GPA</th>\n",
       "      <th>Major</th>\n",
       "      <th>PartTimeJob</th>\n",
       "      <th>ExtraCurricularActivities</th>\n",
       "    </tr>\n",
       "  </thead>\n",
       "  <tbody>\n",
       "    <tr>\n",
       "      <th>0</th>\n",
       "      <td>1</td>\n",
       "      <td>1</td>\n",
       "      <td>24</td>\n",
       "      <td>37</td>\n",
       "      <td>90.75</td>\n",
       "      <td>3.47</td>\n",
       "      <td>0</td>\n",
       "      <td>1</td>\n",
       "      <td>0</td>\n",
       "    </tr>\n",
       "    <tr>\n",
       "      <th>1</th>\n",
       "      <td>2</td>\n",
       "      <td>0</td>\n",
       "      <td>22</td>\n",
       "      <td>37</td>\n",
       "      <td>74.90</td>\n",
       "      <td>2.32</td>\n",
       "      <td>2</td>\n",
       "      <td>0</td>\n",
       "      <td>0</td>\n",
       "    </tr>\n",
       "    <tr>\n",
       "      <th>2</th>\n",
       "      <td>3</td>\n",
       "      <td>1</td>\n",
       "      <td>22</td>\n",
       "      <td>10</td>\n",
       "      <td>53.36</td>\n",
       "      <td>2.38</td>\n",
       "      <td>1</td>\n",
       "      <td>0</td>\n",
       "      <td>0</td>\n",
       "    </tr>\n",
       "    <tr>\n",
       "      <th>3</th>\n",
       "      <td>4</td>\n",
       "      <td>1</td>\n",
       "      <td>24</td>\n",
       "      <td>10</td>\n",
       "      <td>70.26</td>\n",
       "      <td>3.46</td>\n",
       "      <td>4</td>\n",
       "      <td>1</td>\n",
       "      <td>0</td>\n",
       "    </tr>\n",
       "    <tr>\n",
       "      <th>4</th>\n",
       "      <td>5</td>\n",
       "      <td>1</td>\n",
       "      <td>18</td>\n",
       "      <td>19</td>\n",
       "      <td>74.87</td>\n",
       "      <td>2.31</td>\n",
       "      <td>2</td>\n",
       "      <td>1</td>\n",
       "      <td>0</td>\n",
       "    </tr>\n",
       "    <tr>\n",
       "      <th>...</th>\n",
       "      <td>...</td>\n",
       "      <td>...</td>\n",
       "      <td>...</td>\n",
       "      <td>...</td>\n",
       "      <td>...</td>\n",
       "      <td>...</td>\n",
       "      <td>...</td>\n",
       "      <td>...</td>\n",
       "      <td>...</td>\n",
       "    </tr>\n",
       "    <tr>\n",
       "      <th>495</th>\n",
       "      <td>496</td>\n",
       "      <td>1</td>\n",
       "      <td>22</td>\n",
       "      <td>37</td>\n",
       "      <td>76.61</td>\n",
       "      <td>2.97</td>\n",
       "      <td>4</td>\n",
       "      <td>0</td>\n",
       "      <td>0</td>\n",
       "    </tr>\n",
       "    <tr>\n",
       "      <th>496</th>\n",
       "      <td>497</td>\n",
       "      <td>1</td>\n",
       "      <td>23</td>\n",
       "      <td>11</td>\n",
       "      <td>56.29</td>\n",
       "      <td>3.20</td>\n",
       "      <td>4</td>\n",
       "      <td>0</td>\n",
       "      <td>0</td>\n",
       "    </tr>\n",
       "    <tr>\n",
       "      <th>497</th>\n",
       "      <td>498</td>\n",
       "      <td>0</td>\n",
       "      <td>20</td>\n",
       "      <td>6</td>\n",
       "      <td>56.64</td>\n",
       "      <td>3.20</td>\n",
       "      <td>4</td>\n",
       "      <td>0</td>\n",
       "      <td>1</td>\n",
       "    </tr>\n",
       "    <tr>\n",
       "      <th>498</th>\n",
       "      <td>499</td>\n",
       "      <td>1</td>\n",
       "      <td>22</td>\n",
       "      <td>18</td>\n",
       "      <td>57.18</td>\n",
       "      <td>2.05</td>\n",
       "      <td>1</td>\n",
       "      <td>0</td>\n",
       "      <td>1</td>\n",
       "    </tr>\n",
       "    <tr>\n",
       "      <th>499</th>\n",
       "      <td>500</td>\n",
       "      <td>0</td>\n",
       "      <td>24</td>\n",
       "      <td>21</td>\n",
       "      <td>96.99</td>\n",
       "      <td>2.64</td>\n",
       "      <td>3</td>\n",
       "      <td>0</td>\n",
       "      <td>0</td>\n",
       "    </tr>\n",
       "  </tbody>\n",
       "</table>\n",
       "<p>500 rows × 9 columns</p>\n",
       "</div>"
      ],
      "text/plain": [
       "     StudentID  Gender  Age  StudyHoursPerWeek  AttendanceRate   GPA  Major  \\\n",
       "0            1       1   24                 37           90.75  3.47      0   \n",
       "1            2       0   22                 37           74.90  2.32      2   \n",
       "2            3       1   22                 10           53.36  2.38      1   \n",
       "3            4       1   24                 10           70.26  3.46      4   \n",
       "4            5       1   18                 19           74.87  2.31      2   \n",
       "..         ...     ...  ...                ...             ...   ...    ...   \n",
       "495        496       1   22                 37           76.61  2.97      4   \n",
       "496        497       1   23                 11           56.29  3.20      4   \n",
       "497        498       0   20                  6           56.64  3.20      4   \n",
       "498        499       1   22                 18           57.18  2.05      1   \n",
       "499        500       0   24                 21           96.99  2.64      3   \n",
       "\n",
       "     PartTimeJob  ExtraCurricularActivities  \n",
       "0              1                          0  \n",
       "1              0                          0  \n",
       "2              0                          0  \n",
       "3              1                          0  \n",
       "4              1                          0  \n",
       "..           ...                        ...  \n",
       "495            0                          0  \n",
       "496            0                          0  \n",
       "497            0                          1  \n",
       "498            0                          1  \n",
       "499            0                          0  \n",
       "\n",
       "[500 rows x 9 columns]"
      ]
     },
     "execution_count": 6,
     "metadata": {},
     "output_type": "execute_result"
    }
   ],
   "source": [
    "lb =LabelEncoder()\n",
    "cat =['Gender','Major','PartTimeJob','ExtraCurricularActivities']\n",
    "df[cat]=df[cat].apply(lb.fit_transform)\n",
    "df"
   ]
  },
  {
   "cell_type": "code",
   "execution_count": 7,
   "id": "54ea1d53",
   "metadata": {
    "execution": {
     "iopub.execute_input": "2024-08-15T03:51:07.399681Z",
     "iopub.status.busy": "2024-08-15T03:51:07.398445Z",
     "iopub.status.idle": "2024-08-15T03:51:07.405691Z",
     "shell.execute_reply": "2024-08-15T03:51:07.404475Z"
    },
    "papermill": {
     "duration": 0.017071,
     "end_time": "2024-08-15T03:51:07.408248",
     "exception": false,
     "start_time": "2024-08-15T03:51:07.391177",
     "status": "completed"
    },
    "tags": []
   },
   "outputs": [],
   "source": [
    "X = df.drop(['StudentID','GPA'],axis =1)\n",
    "Y= df['GPA']"
   ]
  },
  {
   "cell_type": "code",
   "execution_count": 8,
   "id": "f66d07f6",
   "metadata": {
    "execution": {
     "iopub.execute_input": "2024-08-15T03:51:07.421784Z",
     "iopub.status.busy": "2024-08-15T03:51:07.421331Z",
     "iopub.status.idle": "2024-08-15T03:51:07.431493Z",
     "shell.execute_reply": "2024-08-15T03:51:07.430124Z"
    },
    "papermill": {
     "duration": 0.019984,
     "end_time": "2024-08-15T03:51:07.434155",
     "exception": false,
     "start_time": "2024-08-15T03:51:07.414171",
     "status": "completed"
    },
    "tags": []
   },
   "outputs": [],
   "source": [
    " x_train,x_test,y_train,y_test = train_test_split(X,Y,test_size = 0.2,random_state =42)"
   ]
  },
  {
   "cell_type": "code",
   "execution_count": 9,
   "id": "43bf1e31",
   "metadata": {
    "execution": {
     "iopub.execute_input": "2024-08-15T03:51:07.447510Z",
     "iopub.status.busy": "2024-08-15T03:51:07.447084Z",
     "iopub.status.idle": "2024-08-15T03:51:07.460484Z",
     "shell.execute_reply": "2024-08-15T03:51:07.459222Z"
    },
    "papermill": {
     "duration": 0.023235,
     "end_time": "2024-08-15T03:51:07.463143",
     "exception": false,
     "start_time": "2024-08-15T03:51:07.439908",
     "status": "completed"
    },
    "tags": []
   },
   "outputs": [],
   "source": [
    "sc =StandardScaler()\n",
    "x_train = sc.fit_transform(x_train)\n",
    "x_test  = sc.transform(x_test)"
   ]
  },
  {
   "cell_type": "code",
   "execution_count": 10,
   "id": "b288af34",
   "metadata": {
    "execution": {
     "iopub.execute_input": "2024-08-15T03:51:07.476308Z",
     "iopub.status.busy": "2024-08-15T03:51:07.475905Z",
     "iopub.status.idle": "2024-08-15T03:51:07.502624Z",
     "shell.execute_reply": "2024-08-15T03:51:07.501553Z"
    },
    "papermill": {
     "duration": 0.036473,
     "end_time": "2024-08-15T03:51:07.505359",
     "exception": false,
     "start_time": "2024-08-15T03:51:07.468886",
     "status": "completed"
    },
    "tags": []
   },
   "outputs": [],
   "source": [
    "lr=LinearRegression()\n",
    "lr.fit(x_train,y_train)\n",
    "y_pred = lr.predict(x_test)"
   ]
  },
  {
   "cell_type": "code",
   "execution_count": 11,
   "id": "39d3f3f1",
   "metadata": {
    "execution": {
     "iopub.execute_input": "2024-08-15T03:51:07.518663Z",
     "iopub.status.busy": "2024-08-15T03:51:07.518153Z",
     "iopub.status.idle": "2024-08-15T03:51:07.526366Z",
     "shell.execute_reply": "2024-08-15T03:51:07.525184Z"
    },
    "papermill": {
     "duration": 0.018384,
     "end_time": "2024-08-15T03:51:07.529458",
     "exception": false,
     "start_time": "2024-08-15T03:51:07.511074",
     "status": "completed"
    },
    "tags": []
   },
   "outputs": [
    {
     "name": "stdout",
     "output_type": "stream",
     "text": [
      "Mean Squared Error: 0.35303075668545963\n",
      "R2 Score: 0.03556199630819168\n"
     ]
    }
   ],
   "source": [
    "print('Mean Squared Error:',metrics.mean_squared_error(y_test,y_pred))\n",
    "print('R2 Score:',metrics.r2_score(y_test,y_pred))"
   ]
  }
 ],
 "metadata": {
  "kaggle": {
   "accelerator": "none",
   "dataSources": [
    {
     "datasetId": 5447351,
     "sourceId": 9036800,
     "sourceType": "datasetVersion"
    }
   ],
   "dockerImageVersionId": 30746,
   "isGpuEnabled": false,
   "isInternetEnabled": true,
   "language": "python",
   "sourceType": "notebook"
  },
  "kernelspec": {
   "display_name": "Python 3",
   "language": "python",
   "name": "python3"
  },
  "language_info": {
   "codemirror_mode": {
    "name": "ipython",
    "version": 3
   },
   "file_extension": ".py",
   "mimetype": "text/x-python",
   "name": "python",
   "nbconvert_exporter": "python",
   "pygments_lexer": "ipython3",
   "version": "3.10.13"
  },
  "papermill": {
   "default_parameters": {},
   "duration": 7.623169,
   "end_time": "2024-08-15T03:51:08.157422",
   "environment_variables": {},
   "exception": null,
   "input_path": "__notebook__.ipynb",
   "output_path": "__notebook__.ipynb",
   "parameters": {},
   "start_time": "2024-08-15T03:51:00.534253",
   "version": "2.5.0"
  }
 },
 "nbformat": 4,
 "nbformat_minor": 5
}
